{
 "cells": [
  {
   "cell_type": "code",
   "execution_count": 2,
   "id": "e0a3da84-3595-40c4-a859-99d5fbe7f28a",
   "metadata": {},
   "outputs": [
    {
     "name": "stdout",
     "output_type": "stream",
     "text": [
      "150 degrees Fahrenheit is equal to 65.56 degrees Celsius.\n",
      "77 degrees Celsius is equal to 170.60 degrees Fahrenheit.\n"
     ]
    }
   ],
   "source": [
    "def convert_fahrenheit_to_celsius(fahrenheit):\n",
    "    \"\"\"Convert a temperature from Fahrenheit to Celsius.\"\"\"\n",
    "    celsius = (fahrenheit - 32) * 5.0 / 9.0\n",
    "    return celsius\n",
    "\n",
    "def convert_celsius_to_fahrenheit(celsius):\n",
    "    \"\"\"Convert a temperature from Celsius to Fahrenheit.\"\"\"\n",
    "    fahrenheit = celsius * 9.0 / 5.0 + 32\n",
    "    return fahrenheit\n",
    "\n",
    "if __name__ == \"__main__\":\n",
    "    # Convert Fahrenheit to Celsius\n",
    "    fahrenheit = 150\n",
    "    celsius = convert_fahrenheit_to_celsius(fahrenheit)\n",
    "    print(f\"{fahrenheit} degrees Fahrenheit is equal to {celsius:.2f} degrees Celsius.\")\n",
    "\n",
    "    # Convert Celsius to Fahrenheit\n",
    "    celsius = 77\n",
    "    fahrenheit = convert_celsius_to_fahrenheit(celsius)\n",
    "    print(f\"{celsius} degrees Celsius is equal to {fahrenheit:.2f} degrees Fahrenheit.\")"
   ]
  },
  {
   "cell_type": "code",
   "execution_count": null,
   "id": "7fb668b3-aa22-41d7-8b92-466b0718bd0c",
   "metadata": {},
   "outputs": [],
   "source": []
  }
 ],
 "metadata": {
  "kernelspec": {
   "display_name": "Python 3 (ipykernel)",
   "language": "python",
   "name": "python3"
  },
  "language_info": {
   "codemirror_mode": {
    "name": "ipython",
    "version": 3
   },
   "file_extension": ".py",
   "mimetype": "text/x-python",
   "name": "python",
   "nbconvert_exporter": "python",
   "pygments_lexer": "ipython3",
   "version": "3.12.3"
  }
 },
 "nbformat": 4,
 "nbformat_minor": 5
}
